{
 "cells": [
  {
   "cell_type": "code",
   "execution_count": 1,
   "id": "f9c16add-3f36-4ee7-9588-1f633b8f91e4",
   "metadata": {},
   "outputs": [],
   "source": [
    "# !pip install pyro-ppl "
   ]
  },
  {
   "cell_type": "code",
   "execution_count": 1,
   "id": "8b0199f9-af45-4205-8fd5-d62f61dfbc05",
   "metadata": {},
   "outputs": [],
   "source": [
    "import pandas as pd\n",
    "from tqdm import tqdm\n",
    "import torch\n",
    "import torchvision\n",
    "from torchvision import transforms\n",
    "from torch.utils.data import Dataset, DataLoader\n",
    "from PIL import Image\n",
    "\n",
    "import torch.nn as nn\n",
    "import torch.nn.functional as F\n",
    "\n",
    "import torchvision.models as models"
   ]
  },
  {
   "cell_type": "code",
   "execution_count": 3,
   "id": "bcd8aabe-af38-4b5f-a691-af272f6c9228",
   "metadata": {},
   "outputs": [],
   "source": [
    "df_train_data_info = pd.read_csv(\"D:/dataset/RFMID Training_Set/RFMiD_Training_Labels.csv\")"
   ]
  },
  {
   "cell_type": "code",
   "execution_count": 2,
   "id": "ce8307f7-e6e0-4e25-8404-d47462887c0a",
   "metadata": {},
   "outputs": [],
   "source": [
    "classes_map = {0: 'Healthy',\n",
    " 1: 'DR',\n",
    " 2: 'ARMD',\n",
    " 3: 'MH',\n",
    " 4: 'DN',\n",
    " 5: 'MYA',\n",
    " 6: 'BRVO',\n",
    " 7: 'TSLN',\n",
    " 8: 'ERM',\n",
    " 9: 'LS',\n",
    " 10: 'MS',\n",
    " 11: 'CSR',\n",
    " 12: 'ODC',\n",
    " 13: 'CRVO',\n",
    " 14: 'TV',\n",
    " 15: 'AH',\n",
    " 16: 'ODP',\n",
    " 17: 'ODE',\n",
    " 18: 'ST',\n",
    " 19: 'AION',\n",
    " 20: 'PT',\n",
    " 21: 'RT',\n",
    " 22: 'RS',\n",
    " 23: 'CRS',\n",
    " 24: 'EDN',\n",
    " 25: 'RPEC',\n",
    " 26: 'MHL',\n",
    " 27: 'RP',\n",
    " 28: 'OTHER'}"
   ]
  },
  {
   "cell_type": "code",
   "execution_count": 5,
   "id": "b058dc15-6d38-4864-b006-0791a386b7fd",
   "metadata": {},
   "outputs": [],
   "source": [
    "training_image_folder_path = \"D:/dataset/RFMID Training_Set/Training/\""
   ]
  },
  {
   "cell_type": "code",
   "execution_count": 6,
   "id": "32c5e5b2-4027-4abc-9e30-53dceb9a306f",
   "metadata": {},
   "outputs": [],
   "source": [
    "imagedata_and_classes_dict = {\n",
    "    'Image_Path': [],\n",
    "    'Classes': []\n",
    "}"
   ]
  },
  {
   "cell_type": "code",
   "execution_count": 7,
   "id": "a1061ea4-6578-4a4f-987f-a031fc2e1b98",
   "metadata": {},
   "outputs": [
    {
     "name": "stderr",
     "output_type": "stream",
     "text": [
      "100%|███████████████████████████████████████████████████████████████████████████| 1920/1920 [00:00<00:00, 86937.03it/s]\n"
     ]
    }
   ],
   "source": [
    "for i in tqdm(range(df_train_data_info.shape[0])):#dictionary ke andar details create kar rha, image name and classes daal rha ye for loop\n",
    "    row = list(df_train_data_info.iloc[i])\n",
    "    image_name = str(row.pop(0))\n",
    "    Disease_Risk = row.pop(0)\n",
    "    if Disease_Risk==0:\n",
    "        row.insert(0,1)\n",
    "    else:\n",
    "        row.insert(0,0)\n",
    "    image_path = training_image_folder_path+image_name+\".png\"\n",
    "    imagedata_and_classes_dict['Image_Path'].append(image_path)\n",
    "    imagedata_and_classes_dict['Classes'].append(row)"
   ]
  },
  {
   "cell_type": "code",
   "execution_count": 8,
   "id": "f07550e1-6721-43ea-bfc4-2a4e0900258e",
   "metadata": {},
   "outputs": [],
   "source": [
    "df_imagedata_and_classes = pd.DataFrame(imagedata_and_classes_dict)#data frame- table create ho rha hai"
   ]
  },
  {
   "cell_type": "code",
   "execution_count": 9,
   "id": "a58fb913-0715-4916-a427-214d894ff251",
   "metadata": {},
   "outputs": [],
   "source": [
    "image_transform = transforms.Compose([\n",
    "    transforms.Resize((512, 340)),  # Resize to a standard size (adjust as needed)\n",
    "    transforms.ToTensor()\n",
    "])"
   ]
  },
  {
   "cell_type": "code",
   "execution_count": 10,
   "id": "b86a66af-aa42-4b8b-a097-039f3b96977d",
   "metadata": {},
   "outputs": [],
   "source": [
    "class CustomDataset(Dataset):\n",
    "    def __init__(self, dataframe, transform=None):\n",
    "        self.dataframe = dataframe\n",
    "        self.transform = transform\n",
    "\n",
    "    def __len__(self):\n",
    "        return len(self.dataframe)\n",
    "\n",
    "    def __getitem__(self, idx):\n",
    "        img_path = self.dataframe.iloc[idx]['Image_Path']\n",
    "        image = Image.open(img_path).convert('RGB')\n",
    "        labels = torch.tensor(self.dataframe.iloc[idx]['Classes'], dtype=torch.float32)\n",
    "\n",
    "        if self.transform:\n",
    "            image = self.transform(image)\n",
    "\n",
    "        return image, labels"
   ]
  },
  {
   "cell_type": "code",
   "execution_count": 11,
   "id": "5e3164b4-62f7-40d6-8d69-d78beed8319d",
   "metadata": {},
   "outputs": [],
   "source": [
    "dataset = CustomDataset(df_imagedata_and_classes, transform=image_transform)"
   ]
  },
  {
   "cell_type": "code",
   "execution_count": 12,
   "id": "0c72fe3b-d3bc-4f9b-9a03-e884d7dc8d1e",
   "metadata": {},
   "outputs": [],
   "source": [
    "Train_Data_Loader = DataLoader(dataset, batch_size=32, shuffle=True)"
   ]
  },
  {
   "cell_type": "code",
   "execution_count": 14,
   "id": "3ab5cd4c-46c7-4e89-81c1-a9b4b97259c6",
   "metadata": {},
   "outputs": [
    {
     "name": "stderr",
     "output_type": "stream",
     "text": [
      "C:\\Users\\mishr\\anaconda3\\envs\\ImageGeneration\\Lib\\site-packages\\torchvision\\models\\inception.py:43: FutureWarning: The default weight initialization of inception_v3 will be changed in future releases of torchvision. If you wish to keep the old behavior (which leads to long initialization times due to scipy/scipy#11299), please set init_weights=True.\n",
      "  warnings.warn(\n"
     ]
    }
   ],
   "source": [
    "net = models.inception_v3()"
   ]
  },
  {
   "cell_type": "code",
   "execution_count": 15,
   "id": "a4e428af-06aa-4e6a-a20e-f72fcc0fcefb",
   "metadata": {},
   "outputs": [],
   "source": [
    "net.Conv2d_1a_3x3.conv = nn.Conv2d(3, 32, kernel_size=(3, 3), stride=(2, 2), bias=False)"
   ]
  },
  {
   "cell_type": "code",
   "execution_count": 16,
   "id": "f1ded025-0af4-4b46-9a93-dad398afa802",
   "metadata": {},
   "outputs": [],
   "source": [
    "net.fc = nn.Linear(in_features=2048, out_features=29, bias=True)"
   ]
  },
  {
   "cell_type": "code",
   "execution_count": 17,
   "id": "6202c99d-7548-4aa2-9f12-47b47623ef88",
   "metadata": {},
   "outputs": [],
   "source": [
    "# net.add_module(\"sigmoid\", nn.Sigmoid())"
   ]
  },
  {
   "cell_type": "code",
   "execution_count": 18,
   "id": "63872e50-4293-4982-9a69-ddd1fba3a7bc",
   "metadata": {},
   "outputs": [],
   "source": [
    "net.aux_logits=False"
   ]
  },
  {
   "cell_type": "code",
   "execution_count": 19,
   "id": "25d26108-01fa-4e81-90ce-9bbb43beff70",
   "metadata": {},
   "outputs": [],
   "source": [
    "# net"
   ]
  },
  {
   "cell_type": "code",
   "execution_count": 20,
   "id": "2dbd3006-5e9f-45c8-9125-b62934f02cb0",
   "metadata": {},
   "outputs": [],
   "source": [
    "if torch.cuda.is_available():\n",
    "    net = net.cuda()"
   ]
  },
  {
   "cell_type": "code",
   "execution_count": 20,
   "id": "0dacd8ab-030f-4e8c-965b-8f564fd056dd",
   "metadata": {},
   "outputs": [],
   "source": [
    "import torch.optim as optim\n",
    "criterion = nn.BCELoss()\n",
    "optimizer = optim.SGD(net.parameters(), lr=0.1, momentum=0.9)"
   ]
  },
  {
   "cell_type": "code",
   "execution_count": 21,
   "id": "cbc9d7e5-0f30-4cbe-aee9-edcb6a400c80",
   "metadata": {},
   "outputs": [],
   "source": [
    "loss_train_list = []\n",
    "acc_train_list = []"
   ]
  },
  {
   "cell_type": "code",
   "execution_count": 45,
   "id": "e7828dc6-c490-42c8-896d-2edc73018f97",
   "metadata": {},
   "outputs": [],
   "source": [
    "epochs = 5"
   ]
  },
  {
   "cell_type": "code",
   "execution_count": 23,
   "id": "12f23902-2882-4fac-9438-cd0d24dad414",
   "metadata": {},
   "outputs": [],
   "source": [
    "import numpy as np\n",
    "min_train_loss = np.inf "
   ]
  },
  {
   "cell_type": "code",
   "execution_count": 47,
   "id": "18e5f94f-5fd9-4ab0-883c-f0105f291acb",
   "metadata": {},
   "outputs": [],
   "source": [
    "# net.load_state_dict(torch.load(\"./model_weights/inception/inception_model_weights.pth\"))"
   ]
  },
  {
   "cell_type": "code",
   "execution_count": 21,
   "id": "17a75d1b-d02b-46a0-a5cd-ba0efdd553d6",
   "metadata": {},
   "outputs": [],
   "source": [
    "import time"
   ]
  },
  {
   "cell_type": "code",
   "execution_count": 22,
   "id": "86f24500-8fe1-45c1-b2b2-e60b6d43e76f",
   "metadata": {},
   "outputs": [],
   "source": [
    "def convert(seconds):\n",
    "    return time.strftime(\"%H:%M:%S\", time.gmtime(seconds))"
   ]
  },
  {
   "cell_type": "code",
   "execution_count": 50,
   "id": "53524924-f44a-4fba-aa45-ddae440f6f93",
   "metadata": {},
   "outputs": [
    {
     "name": "stdout",
     "output_type": "stream",
     "text": [
      "2.3.1\n"
     ]
    }
   ],
   "source": [
    "#if torch.cuda.is_available():\n",
    "print(torch.__version__)"
   ]
  },
  {
   "cell_type": "code",
   "execution_count": 51,
   "id": "4fd63d47-0207-4fec-935c-a1e126f99cd8",
   "metadata": {},
   "outputs": [
    {
     "name": "stderr",
     "output_type": "stream",
     "text": [
      "100%|██████████████████████████████████████████████████████████████████████████████████| 60/60 [04:22<00:00,  4.38s/it]\n"
     ]
    },
    {
     "name": "stdout",
     "output_type": "stream",
     "text": [
      "Epoch 1 \tTraining Loss: 0.017267117137089373 \t time: 00:04:22\n",
      "Train Accuracy : 85.05208333333333\n",
      "Train Loss Decreased( inf ---> 1.0360270282253623 ) \t Saving The Model\n"
     ]
    },
    {
     "name": "stderr",
     "output_type": "stream",
     "text": [
      "100%|██████████████████████████████████████████████████████████████████████████████████| 60/60 [04:21<00:00,  4.36s/it]\n"
     ]
    },
    {
     "name": "stdout",
     "output_type": "stream",
     "text": [
      "Epoch 2 \tTraining Loss: 0.016275877746132515 \t time: 00:04:21\n",
      "Train Accuracy : 85.46875\n",
      "Train Loss Decreased( 1.0360270282253623 ---> 0.9765526647679508 ) \t Saving The Model\n"
     ]
    },
    {
     "name": "stderr",
     "output_type": "stream",
     "text": [
      "100%|██████████████████████████████████████████████████████████████████████████████████| 60/60 [04:21<00:00,  4.36s/it]\n"
     ]
    },
    {
     "name": "stdout",
     "output_type": "stream",
     "text": [
      "Epoch 3 \tTraining Loss: 0.017973051786733172 \t time: 00:04:21\n",
      "Train Accuracy : 85.36458333333333\n"
     ]
    },
    {
     "name": "stderr",
     "output_type": "stream",
     "text": [
      "100%|██████████████████████████████████████████████████████████████████████████████████| 60/60 [04:20<00:00,  4.35s/it]\n"
     ]
    },
    {
     "name": "stdout",
     "output_type": "stream",
     "text": [
      "Epoch 4 \tTraining Loss: 0.016853450696604946 \t time: 00:04:20\n",
      "Train Accuracy : 84.42708333333333\n"
     ]
    },
    {
     "name": "stderr",
     "output_type": "stream",
     "text": [
      "100%|██████████████████████████████████████████████████████████████████████████████████| 60/60 [04:21<00:00,  4.36s/it]\n"
     ]
    },
    {
     "name": "stdout",
     "output_type": "stream",
     "text": [
      "Epoch 5 \tTraining Loss: 0.01521696213943263 \t time: 00:04:21\n",
      "Train Accuracy : 86.66666666666667\n",
      "Train Loss Decreased( 0.9765526647679508 ---> 0.9130177283659577 ) \t Saving The Model\n",
      "total time :  00:21:49\n"
     ]
    }
   ],
   "source": [
    "total_time = time.time()\n",
    "for e in range(epochs):\n",
    "    start_time=time.time()\n",
    "    train_loss = 0.0\n",
    "    right_train = 0\n",
    "    total_train = 0\n",
    "    for data, labels in tqdm(Train_Data_Loader):\n",
    "        # Transfer Data to GPU if available\n",
    "        if torch.cuda.is_available():\n",
    "            data, labels = data.cuda(), labels.cuda()\n",
    "         \n",
    "        # Clear the gradients\n",
    "        optimizer.zero_grad()\n",
    "        net.train()\n",
    "        # Forward Pass\n",
    "        target = net(data)\n",
    "        # Apply sigmoid activation\n",
    "        sigmoid_output = torch.sigmoid(target)\n",
    "        # Convert sigmoid output to binary values\n",
    "        output = (sigmoid_output > 0.5).float()\n",
    "        # Find the Loss\n",
    "        loss = criterion(sigmoid_output,labels)\n",
    "        # Calculate gradients\n",
    "        loss.backward()\n",
    "        # Update Weights\n",
    "        optimizer.step()\n",
    "        # Calculate Loss\n",
    "        train_loss += loss.item()\n",
    "        ftloss = train_loss / len(Train_Data_Loader)\n",
    "        # Calculate accuracy\n",
    "        for op1,exp1 in zip(output,labels):\n",
    "            correct_predictions = 1.0 if (op1 == exp1).int().sum()==29 else 0.0\n",
    "            # print(correct_predictions)\n",
    "            right_train+=correct_predictions\n",
    "        # correct_predictions = 1.0 if (output == labels).int().sum()==29 else 0.0\n",
    "        # right_train+=correct_predictions\n",
    "        total_train+=len(labels)\n",
    "    ftacc = float(right_train*100/total_train)\n",
    "    acc_train_list.append(ftacc)\n",
    "    loss_train_list.append(ftloss)\n",
    "    print('Epoch',e+1, '\\tTraining Loss:',ftloss,\"\\t time:\",convert(time.time()-start_time))\n",
    "    print(\"Train Accuracy :\",ftacc)\n",
    "    if min_train_loss > train_loss:\n",
    "        print(\"Train Loss Decreased(\",min_train_loss,\"--->\",train_loss,\") \\t Saving The Model\")\n",
    "        min_train_loss = train_loss\n",
    "        # Saving State Dict\n",
    "        torch.save(net.state_dict(), 'D:/dataset/rfmid model output/inception/inception_model_weights.pth')\n",
    "        torch.save(net,\"D:/dataset/rfmid model output/inception/inception_model.pt\")\n",
    "print(\"total time : \",convert(time.time()-total_time))"
   ]
  },
  {
   "cell_type": "code",
   "execution_count": 54,
   "id": "67f359a0-5d24-41bc-98af-116889f6a088",
   "metadata": {},
   "outputs": [
    {
     "data": {
      "text/plain": [
       "0.4166666666666667"
      ]
     },
     "execution_count": 54,
     "metadata": {},
     "output_type": "execute_result"
    }
   ],
   "source": [
    "# torch.save(net.state_dict(), '/home/user/research/inception/inception_model_100e_weights.pth')\n",
    "# torch.save(net,\"/home/user/research/inception/inception_model_100e.pt\")\n",
    "#min(acc_train_list)"
   ]
  },
  {
   "cell_type": "code",
   "execution_count": 57,
   "id": "2b8a87da-88a0-4b70-a89c-9803711b3dfa",
   "metadata": {},
   "outputs": [],
   "source": [
    "import matplotlib.pyplot as plt"
   ]
  },
  {
   "cell_type": "code",
   "execution_count": 58,
   "id": "d4a5fef6-c134-4ae6-9eff-35c9e862c07b",
   "metadata": {},
   "outputs": [
    {
     "data": {
      "image/png": "[encoded data removed]",
      "text/plain": [
       "<Figure size 640x480 with 1 Axes>"
      ]
     },
     "metadata": {},
     "output_type": "display_data"
    }
   ],
   "source": [
    "y_v = min(loss_train_list)\n",
    "x_v = loss_train_list.index(y_v)+1\n",
    "plt.plot(loss_train_list)\n",
    "plt.annotate(\"min train loss\",(x_v,y_v))\n",
    "plt.title('Train Loss during Model Training')\n",
    "plt.ylabel('loss')\n",
    "plt.xlabel('epoch')\n",
    "plt.legend(['train','minimum'], loc='upper left')\n",
    "plt.show()"
   ]
  },
  {
   "cell_type": "code",
   "execution_count": 59,
   "id": "bbbce647-6637-4ee0-a913-5a1b1c974ca5",
   "metadata": {},
   "outputs": [
    {
     "data": {
      "image/png": "[encoded data removed]",
      "text/plain": [
       "<Figure size 640x480 with 1 Axes>"
      ]
     },
     "metadata": {},
     "output_type": "display_data"
    }
   ],
   "source": [
    "y_v = max(acc_train_list)\n",
    "x_v = acc_train_list.index(y_v)+1\n",
    "plt.plot(acc_train_list)\n",
    "plt.annotate(\"Max accuracy\",(x_v,y_v))\n",
    "plt.title('Accuracy during Model Training')\n",
    "plt.ylabel('Accuracy')\n",
    "plt.xlabel('epoch')\n",
    "plt.legend(['train','maximum'], loc='upper left')\n",
    "plt.show()"
   ]
  },
  {
   "cell_type": "code",
   "execution_count": 24,
   "id": "832dac59-9c74-4d4c-8a8d-1324ee4d7045",
   "metadata": {},
   "outputs": [
    {
     "data": {
      "text/plain": [
       "<All keys matched successfully>"
      ]
     },
     "execution_count": 24,
     "metadata": {},
     "output_type": "execute_result"
    }
   ],
   "source": [
    "net.load_state_dict(torch.load(\"D:/dataset/rfmid model output/inception/inception_model_weights.pth\"))"
   ]
  },
  {
   "cell_type": "code",
   "execution_count": 4,
   "id": "9bbe12ac-9ed5-48e0-914a-587f1d25795f",
   "metadata": {},
   "outputs": [],
   "source": [
    "df_test_data_info = pd.read_csv(\"D:/dataset/RFMiD Test_Set/Test_Set/RFMiD_Testing_Labels.csv\")"
   ]
  },
  {
   "cell_type": "code",
   "execution_count": 5,
   "id": "767f3397-6ef6-46b0-89b0-661dcef97aed",
   "metadata": {},
   "outputs": [
    {
     "data": {
      "text/html": [
       "<div>\n",
       "<style scoped>\n",
       "    .dataframe tbody tr th:only-of-type {\n",
       "        vertical-align: middle;\n",
       "    }\n",
       "\n",
       "    .dataframe tbody tr th {\n",
       "        vertical-align: top;\n",
       "    }\n",
       "\n",
       "    .dataframe thead th {\n",
       "        text-align: right;\n",
       "    }\n",
       "</style>\n",
       "<table border=\"1\" class=\"dataframe\">\n",
       "  <thead>\n",
       "    <tr style=\"text-align: right;\">\n",
       "      <th></th>\n",
       "      <th>ID</th>\n",
       "      <th>Disease_Risk</th>\n",
       "      <th>DR</th>\n",
       "      <th>ARMD</th>\n",
       "      <th>MH</th>\n",
       "      <th>DN</th>\n",
       "      <th>MYA</th>\n",
       "      <th>BRVO</th>\n",
       "      <th>TSLN</th>\n",
       "      <th>ERM</th>\n",
       "      <th>...</th>\n",
       "      <th>AION</th>\n",
       "      <th>PT</th>\n",
       "      <th>RT</th>\n",
       "      <th>RS</th>\n",
       "      <th>CRS</th>\n",
       "      <th>EDN</th>\n",
       "      <th>RPEC</th>\n",
       "      <th>MHL</th>\n",
       "      <th>RP</th>\n",
       "      <th>OTHER</th>\n",
       "    </tr>\n",
       "  </thead>\n",
       "  <tbody>\n",
       "    <tr>\n",
       "      <th>0</th>\n",
       "      <td>1</td>\n",
       "      <td>1</td>\n",
       "      <td>1</td>\n",
       "      <td>0</td>\n",
       "      <td>0</td>\n",
       "      <td>0</td>\n",
       "      <td>0</td>\n",
       "      <td>0</td>\n",
       "      <td>1</td>\n",
       "      <td>0</td>\n",
       "      <td>...</td>\n",
       "      <td>0</td>\n",
       "      <td>0</td>\n",
       "      <td>0</td>\n",
       "      <td>0</td>\n",
       "      <td>0</td>\n",
       "      <td>0</td>\n",
       "      <td>0</td>\n",
       "      <td>0</td>\n",
       "      <td>0</td>\n",
       "      <td>0</td>\n",
       "    </tr>\n",
       "    <tr>\n",
       "      <th>1</th>\n",
       "      <td>2</td>\n",
       "      <td>1</td>\n",
       "      <td>1</td>\n",
       "      <td>0</td>\n",
       "      <td>0</td>\n",
       "      <td>0</td>\n",
       "      <td>0</td>\n",
       "      <td>1</td>\n",
       "      <td>0</td>\n",
       "      <td>0</td>\n",
       "      <td>...</td>\n",
       "      <td>0</td>\n",
       "      <td>0</td>\n",
       "      <td>0</td>\n",
       "      <td>0</td>\n",
       "      <td>0</td>\n",
       "      <td>0</td>\n",
       "      <td>0</td>\n",
       "      <td>0</td>\n",
       "      <td>0</td>\n",
       "      <td>0</td>\n",
       "    </tr>\n",
       "    <tr>\n",
       "      <th>2</th>\n",
       "      <td>3</td>\n",
       "      <td>1</td>\n",
       "      <td>1</td>\n",
       "      <td>0</td>\n",
       "      <td>0</td>\n",
       "      <td>0</td>\n",
       "      <td>0</td>\n",
       "      <td>0</td>\n",
       "      <td>0</td>\n",
       "      <td>0</td>\n",
       "      <td>...</td>\n",
       "      <td>0</td>\n",
       "      <td>0</td>\n",
       "      <td>0</td>\n",
       "      <td>0</td>\n",
       "      <td>0</td>\n",
       "      <td>0</td>\n",
       "      <td>0</td>\n",
       "      <td>0</td>\n",
       "      <td>0</td>\n",
       "      <td>0</td>\n",
       "    </tr>\n",
       "    <tr>\n",
       "      <th>3</th>\n",
       "      <td>4</td>\n",
       "      <td>1</td>\n",
       "      <td>0</td>\n",
       "      <td>0</td>\n",
       "      <td>0</td>\n",
       "      <td>0</td>\n",
       "      <td>0</td>\n",
       "      <td>0</td>\n",
       "      <td>0</td>\n",
       "      <td>0</td>\n",
       "      <td>...</td>\n",
       "      <td>1</td>\n",
       "      <td>0</td>\n",
       "      <td>0</td>\n",
       "      <td>0</td>\n",
       "      <td>0</td>\n",
       "      <td>0</td>\n",
       "      <td>0</td>\n",
       "      <td>0</td>\n",
       "      <td>0</td>\n",
       "      <td>0</td>\n",
       "    </tr>\n",
       "    <tr>\n",
       "      <th>4</th>\n",
       "      <td>5</td>\n",
       "      <td>1</td>\n",
       "      <td>0</td>\n",
       "      <td>0</td>\n",
       "      <td>0</td>\n",
       "      <td>0</td>\n",
       "      <td>0</td>\n",
       "      <td>0</td>\n",
       "      <td>0</td>\n",
       "      <td>0</td>\n",
       "      <td>...</td>\n",
       "      <td>1</td>\n",
       "      <td>0</td>\n",
       "      <td>0</td>\n",
       "      <td>0</td>\n",
       "      <td>0</td>\n",
       "      <td>0</td>\n",
       "      <td>0</td>\n",
       "      <td>0</td>\n",
       "      <td>0</td>\n",
       "      <td>0</td>\n",
       "    </tr>\n",
       "  </tbody>\n",
       "</table>\n",
       "<p>5 rows × 30 columns</p>\n",
       "</div>"
      ],
      "text/plain": [
       "   ID  Disease_Risk  DR  ARMD  MH  DN  MYA  BRVO  TSLN  ERM  ...  AION  PT  \\\n",
       "0   1             1   1     0   0   0    0     0     1    0  ...     0   0   \n",
       "1   2             1   1     0   0   0    0     1     0    0  ...     0   0   \n",
       "2   3             1   1     0   0   0    0     0     0    0  ...     0   0   \n",
       "3   4             1   0     0   0   0    0     0     0    0  ...     1   0   \n",
       "4   5             1   0     0   0   0    0     0     0    0  ...     1   0   \n",
       "\n",
       "   RT  RS  CRS  EDN  RPEC  MHL  RP  OTHER  \n",
       "0   0   0    0    0     0    0   0      0  \n",
       "1   0   0    0    0     0    0   0      0  \n",
       "2   0   0    0    0     0    0   0      0  \n",
       "3   0   0    0    0     0    0   0      0  \n",
       "4   0   0    0    0     0    0   0      0  \n",
       "\n",
       "[5 rows x 30 columns]"
      ]
     },
     "execution_count": 5,
     "metadata": {},
     "output_type": "execute_result"
    }
   ],
   "source": [
    "df_test_data_info.head()"
   ]
  },
  {
   "cell_type": "code",
   "execution_count": 6,
   "id": "bfdbeec3-e999-46bc-a14c-0fc999714d91",
   "metadata": {},
   "outputs": [],
   "source": [
    "testing_image_folder_path = \"D:/dataset/RFMiD Test_Set/Test_Set/Test/\""
   ]
  },
  {
   "cell_type": "code",
   "execution_count": 7,
   "id": "9a3866b8-8443-4a1f-9b93-643d1033bc18",
   "metadata": {},
   "outputs": [],
   "source": [
    "imagedata_and_classes_dict = {\n",
    "    'Image_Path': [],\n",
    "    'Classes': []\n",
    "}"
   ]
  },
  {
   "cell_type": "code",
   "execution_count": 8,
   "id": "0aad20f2-ade7-4a2d-9e3b-8ba57799d596",
   "metadata": {},
   "outputs": [
    {
     "name": "stderr",
     "output_type": "stream",
     "text": [
      "100%|█████████████████████████████████████████████████████████████████████████████| 640/640 [00:00<00:00, 19911.84it/s]\n"
     ]
    }
   ],
   "source": [
    "for i in tqdm(range(df_test_data_info.shape[0])):#dictionary ke andar details create kar rha, image name and classes daal rha ye for loop\n",
    "    row = list(df_test_data_info.iloc[i])\n",
    "    image_name = str(row.pop(0))\n",
    "    Disease_Risk = row.pop(0)\n",
    "    if Disease_Risk==0:\n",
    "        row.insert(0,1)\n",
    "    else:\n",
    "        row.insert(0,0)\n",
    "    image_path = testing_image_folder_path+image_name+\".png\"\n",
    "    imagedata_and_classes_dict['Image_Path'].append(image_path)\n",
    "    imagedata_and_classes_dict['Classes'].append(row)"
   ]
  },
  {
   "cell_type": "code",
   "execution_count": 11,
   "id": "7c97bac8-8dae-450c-8178-d193ca2b24aa",
   "metadata": {},
   "outputs": [],
   "source": [
    "df_imagedata_and_classes = pd.DataFrame(imagedata_and_classes_dict)#data frame- table create ho rha hai"
   ]
  },
  {
   "cell_type": "code",
   "execution_count": 12,
   "id": "b7a88641-fb2e-4ee1-a6ae-319af4d8aa0e",
   "metadata": {},
   "outputs": [],
   "source": [
    "dataset = CustomDataset(df_imagedata_and_classes, transform=image_transform)"
   ]
  },
  {
   "cell_type": "code",
   "execution_count": 13,
   "id": "7c3ac666-a545-4a5f-8ca5-5a81533ab776",
   "metadata": {},
   "outputs": [],
   "source": [
    "Test_Data_Loader = DataLoader(dataset, batch_size=32, shuffle=True)"
   ]
  },
  {
   "cell_type": "code",
   "execution_count": 25,
   "id": "4ba280dd-6853-4884-a516-233b5061917a",
   "metadata": {},
   "outputs": [],
   "source": [
    "right_train=0\n",
    "total_train=0"
   ]
  },
  {
   "cell_type": "code",
   "execution_count": 26,
   "id": "20457ad9-d23f-403b-ad14-cc6e0dd50ed8",
   "metadata": {},
   "outputs": [
    {
     "name": "stderr",
     "output_type": "stream",
     "text": [
      "100%|██████████████████████████████████████████████████████████████████████████████████| 20/20 [02:36<00:00,  7.83s/it]"
     ]
    },
    {
     "name": "stdout",
     "output_type": "stream",
     "text": [
      "Test accuracy 33.28125\n"
     ]
    },
    {
     "name": "stderr",
     "output_type": "stream",
     "text": [
      "\n"
     ]
    }
   ],
   "source": [
    "for data, labels in tqdm(Test_Data_Loader):\n",
    "    # Transfer Data to GPU if available\n",
    "    if torch.cuda.is_available():\n",
    "        data, labels = data.cuda(), labels.cuda()\n",
    "    # Forward Pass\n",
    "    target = net(data)\n",
    "    # Apply sigmoid activation\n",
    "    sigmoid_output = torch.sigmoid(target)\n",
    "    # Convert sigmoid output to binary values\n",
    "    output = (sigmoid_output > 0.5).float()\n",
    "    # Find the Loss\n",
    "   # loss = criterion(sigmoid_output,labels)\n",
    "    # Calculate gradients\n",
    "  #  loss.backward()\n",
    "    # Update Weights\n",
    "  #  optimizer.step()\n",
    "    # Calculate Loss\n",
    "    #train_loss += loss.item()\n",
    "    #ftloss = train_loss / len(Train_Data_Loader)\n",
    "    # Calculate accuracy\n",
    "    for op1,exp1 in zip(output,labels):\n",
    "        correct_predictions = 1.0 if (op1 == exp1).int().sum()==29 else 0.0\n",
    "        # print(correct_predictions)\n",
    "        right_train+=correct_predictions\n",
    "    # correct_predictions = 1.0 if (output == labels).int().sum()==29 else 0.0\n",
    "    # right_train+=correct_predictions\n",
    "    total_train+=len(labels)\n",
    "print(\"Test accuracy\",float(right_train*100/total_train))\n",
    "#acc_train_list.append(ftacc)\n",
    "#loss_train_list.append(ftloss)\n",
    "#print('Epoch',e+1, '\\tTraining Loss:',ftloss,\"\\t time:\",convert(time.time()-start_time))\n",
    "#print(\"Train Accuracy :\",ftacc)\n",
    "#if min_train_loss > train_loss:\n",
    "#    print(\"Train Loss Decreased(\",min_train_loss,\"--->\",train_loss,\") \\t Saving The Model\")\n",
    "#    min_train_loss = train_loss\n",
    " #   # Saving State Dict\n",
    "  #  torch.save(net.state_dict(), 'D:/dataset/rfmid model output/inception/inception_model_weights.pth')\n",
    "   # torch.save(net,\"D:/dataset/rfmid model output/inception/inception_model.pt\")\n",
    "#print(\"total time : \",convert(time.time()-total_time))"
   ]
  },
  {
   "cell_type": "code",
   "execution_count": null,
   "id": "27de936a-0068-4d3e-b51d-855ac8831d89",
   "metadata": {},
   "outputs": [],
   "source": []
  }
 ],
 "metadata": {
  "kernelspec": {
   "display_name": "Python 3 (ipykernel)",
   "language": "python",
   "name": "python3"
  },
  "language_info": {
   "codemirror_mode": {
    "name": "ipython",
    "version": 3
   },
   "file_extension": ".py",
   "mimetype": "text/x-python",
   "name": "python",
   "nbconvert_exporter": "python",
   "pygments_lexer": "ipython3",
   "version": "3.11.7"
  }
 },
 "nbformat": 4,
 "nbformat_minor": 5
}
