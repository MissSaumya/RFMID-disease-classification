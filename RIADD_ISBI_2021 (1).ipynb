{
 "cells": [
  {
   "cell_type": "code",
   "execution_count": 1,
   "id": "f9c16add-3f36-4ee7-9588-1f633b8f91e4",
   "metadata": {},
   "outputs": [],
   "source": [
    "# !pip install pyro-ppl "
   ]
  },
  {
   "cell_type": "code",
   "execution_count": 1,
   "id": "8b0199f9-af45-4205-8fd5-d62f61dfbc05",
   "metadata": {},
   "outputs": [
    {
     "name": "stderr",
     "output_type": "stream",
     "text": [
      "C:\\Users\\mrper\\.conda\\envs\\ImageGen\\Lib\\site-packages\\tqdm\\auto.py:21: TqdmWarning: IProgress not found. Please update jupyter and ipywidgets. See https://ipywidgets.readthedocs.io/en/stable/user_install.html\n",
      "  from .autonotebook import tqdm as notebook_tqdm\n"
     ]
    }
   ],
   "source": [
    "import pandas as pd\n",
    "from tqdm import tqdm\n",
    "import torch\n",
    "import torchvision\n",
    "from torchvision import transforms\n",
    "from torch.utils.data import Dataset, DataLoader\n",
    "from PIL import Image\n",
    "import pyro\n",
    "import pyro.distributions as dist\n",
    "import pyro.infer.elbo\n",
    "import torch.nn as nn\n",
    "import torch.nn.functional as F\n",
    "from pyro.infer import SVI, Trace_ELBO\n",
    "from pyro.optim import Adam\n",
    "from pyro.distributions import Normal, Categorical\n",
    "from pyro.infer import SVI, Trace_ELBO\n",
    "from pyro.optim import Adam\n",
    "import torchvision.models as models"
   ]
  },
  {
   "cell_type": "code",
   "execution_count": 2,
   "id": "bcd8aabe-af38-4b5f-a691-af272f6c9228",
   "metadata": {},
   "outputs": [],
   "source": [
    "df_train_data_info = pd.read_csv(\"E:/Saumya/RFMiD/Training_Set/RFMiD_Training_Labels.csv\")"
   ]
  },
  {
   "cell_type": "code",
   "execution_count": 3,
   "id": "ce8307f7-e6e0-4e25-8404-d47462887c0a",
   "metadata": {},
   "outputs": [],
   "source": [
    "classes_map = {0: 'Healthy',\n",
    " 1: 'DR',\n",
    " 2: 'ARMD',\n",
    " 3: 'MH',\n",
    " 4: 'DN',\n",
    " 5: 'MYA',\n",
    " 6: 'BRVO',\n",
    " 7: 'TSLN',\n",
    " 8: 'ERM',\n",
    " 9: 'LS',\n",
    " 10: 'MS',\n",
    " 11: 'CSR',\n",
    " 12: 'ODC',\n",
    " 13: 'CRVO',\n",
    " 14: 'TV',\n",
    " 15: 'AH',\n",
    " 16: 'ODP',\n",
    " 17: 'ODE',\n",
    " 18: 'ST',\n",
    " 19: 'AION',\n",
    " 20: 'PT',\n",
    " 21: 'RT',\n",
    " 22: 'RS',\n",
    " 23: 'CRS',\n",
    " 24: 'EDN',\n",
    " 25: 'RPEC',\n",
    " 26: 'MHL',\n",
    " 27: 'RP',\n",
    " 28: 'OTHER'}"
   ]
  },
  {
   "cell_type": "code",
   "execution_count": 4,
   "id": "b058dc15-6d38-4864-b006-0791a386b7fd",
   "metadata": {},
   "outputs": [],
   "source": [
    "training_image_folder_path = \"E:/Saumya/RFMiD/Training_Set/Training/\""
   ]
  },
  {
   "cell_type": "code",
   "execution_count": 5,
   "id": "32c5e5b2-4027-4abc-9e30-53dceb9a306f",
   "metadata": {},
   "outputs": [],
   "source": [
    "imagedata_and_classes_dict = {\n",
    "    'Image_Path': [],\n",
    "    'Classes': []\n",
    "}"
   ]
  },
  {
   "cell_type": "code",
   "execution_count": 6,
   "id": "a1061ea4-6578-4a4f-987f-a031fc2e1b98",
   "metadata": {},
   "outputs": [
    {
     "name": "stderr",
     "output_type": "stream",
     "text": [
      "100%|███████████████████████████████████████████████████████████████████████████████████████████████████████| 1920/1920 [00:00<00:00, 33673.69it/s]\n"
     ]
    }
   ],
   "source": [
    "for i in tqdm(range(df_train_data_info.shape[0])):\n",
    "    row = list(df_train_data_info.iloc[i])\n",
    "    image_name = str(row.pop(0))\n",
    "    Disease_Risk = row.pop(0)\n",
    "    if Disease_Risk==0:\n",
    "        row.insert(0,1)\n",
    "    else:\n",
    "        row.insert(0,0)\n",
    "    image_path = training_image_folder_path+image_name+\".png\"\n",
    "    imagedata_and_classes_dict['Image_Path'].append(image_path)\n",
    "    imagedata_and_classes_dict['Classes'].append(row)"
   ]
  },
  {
   "cell_type": "code",
   "execution_count": 7,
   "id": "f07550e1-6721-43ea-bfc4-2a4e0900258e",
   "metadata": {},
   "outputs": [],
   "source": [
    "df_imagedata_and_classes = pd.DataFrame(imagedata_and_classes_dict)"
   ]
  },
  {
   "cell_type": "code",
   "execution_count": 8,
   "id": "a58fb913-0715-4916-a427-214d894ff251",
   "metadata": {},
   "outputs": [],
   "source": [
    "image_transform = transforms.Compose([\n",
    "    transforms.Resize((512, 340)),  # Resize to a standard size (adjust as needed)\n",
    "    transforms.ToTensor()\n",
    "])"
   ]
  },
  {
   "cell_type": "code",
   "execution_count": 9,
   "id": "b86a66af-aa42-4b8b-a097-039f3b96977d",
   "metadata": {},
   "outputs": [],
   "source": [
    "class CustomDataset(Dataset):\n",
    "    def __init__(self, dataframe, transform=None):\n",
    "        self.dataframe = dataframe\n",
    "        self.transform = transform\n",
    "\n",
    "    def __len__(self):\n",
    "        return len(self.dataframe)\n",
    "\n",
    "    def __getitem__(self, idx):\n",
    "        img_path = self.dataframe.iloc[idx]['Image_Path']\n",
    "        image = Image.open(img_path).convert('RGB')\n",
    "        labels = torch.tensor(self.dataframe.iloc[idx]['Classes'], dtype=torch.float32)\n",
    "\n",
    "        if self.transform:\n",
    "            image = self.transform(image)\n",
    "\n",
    "        return image, labels"
   ]
  },
  {
   "cell_type": "code",
   "execution_count": 10,
   "id": "5e3164b4-62f7-40d6-8d69-d78beed8319d",
   "metadata": {},
   "outputs": [],
   "source": [
    "dataset = CustomDataset(df_imagedata_and_classes, transform=image_transform)"
   ]
  },
  {
   "cell_type": "code",
   "execution_count": 11,
   "id": "0c72fe3b-d3bc-4f9b-9a03-e884d7dc8d1e",
   "metadata": {},
   "outputs": [],
   "source": [
    "Train_Data_Loader = DataLoader(dataset, batch_size=1, shuffle=True)"
   ]
  },
  {
   "cell_type": "code",
   "execution_count": 12,
   "id": "3ab5cd4c-46c7-4e89-81c1-a9b4b97259c6",
   "metadata": {},
   "outputs": [
    {
     "name": "stderr",
     "output_type": "stream",
     "text": [
      "C:\\Users\\mrper\\.conda\\envs\\ImageGen\\Lib\\site-packages\\torchvision\\models\\inception.py:43: FutureWarning: The default weight initialization of inception_v3 will be changed in future releases of torchvision. If you wish to keep the old behavior (which leads to long initialization times due to scipy/scipy#11299), please set init_weights=True.\n",
      "  warnings.warn(\n"
     ]
    }
   ],
   "source": [
    "net = models.inception_v3()"
   ]
  },
  {
   "cell_type": "code",
   "execution_count": 13,
   "id": "a4e428af-06aa-4e6a-a20e-f72fcc0fcefb",
   "metadata": {},
   "outputs": [],
   "source": [
    "net.Conv2d_1a_3x3.conv = nn.Conv2d(3, 32, kernel_size=(3, 3), stride=(2, 2), bias=False)"
   ]
  },
  {
   "cell_type": "code",
   "execution_count": 14,
   "id": "f1ded025-0af4-4b46-9a93-dad398afa802",
   "metadata": {},
   "outputs": [],
   "source": [
    "net.fc = nn.Linear(in_features=2048, out_features=29, bias=True)"
   ]
  },
  {
   "cell_type": "code",
   "execution_count": 15,
   "id": "6202c99d-7548-4aa2-9f12-47b47623ef88",
   "metadata": {},
   "outputs": [],
   "source": [
    "# net.add_module(\"sigmoid\", nn.Sigmoid())"
   ]
  },
  {
   "cell_type": "code",
   "execution_count": 16,
   "id": "63872e50-4293-4982-9a69-ddd1fba3a7bc",
   "metadata": {},
   "outputs": [],
   "source": [
    "net.aux_logits=False"
   ]
  },
  {
   "cell_type": "code",
   "execution_count": 17,
   "id": "25d26108-01fa-4e81-90ce-9bbb43beff70",
   "metadata": {},
   "outputs": [],
   "source": [
    "# net"
   ]
  },
  {
   "cell_type": "code",
   "execution_count": 18,
   "id": "2dbd3006-5e9f-45c8-9125-b62934f02cb0",
   "metadata": {},
   "outputs": [],
   "source": [
    "if torch.cuda.is_available():\n",
    "    net = net.cuda()"
   ]
  },
  {
   "cell_type": "code",
   "execution_count": 28,
   "id": "0dacd8ab-030f-4e8c-965b-8f564fd056dd",
   "metadata": {},
   "outputs": [],
   "source": [
    "import torch.optim as optim\n",
    "criterion = nn.BCELoss()\n",
    "optimizer = optim.SGD(net.parameters(), lr=0.1, momentum=0.9)"
   ]
  },
  {
   "cell_type": "code",
   "execution_count": 29,
   "id": "cbc9d7e5-0f30-4cbe-aee9-edcb6a400c80",
   "metadata": {},
   "outputs": [],
   "source": [
    "loss_train_list = []\n",
    "acc_train_list = []"
   ]
  },
  {
   "cell_type": "code",
   "execution_count": 21,
   "id": "e7828dc6-c490-42c8-896d-2edc73018f97",
   "metadata": {},
   "outputs": [],
   "source": [
    "epochs = 5"
   ]
  },
  {
   "cell_type": "code",
   "execution_count": 22,
   "id": "12f23902-2882-4fac-9438-cd0d24dad414",
   "metadata": {},
   "outputs": [],
   "source": [
    "import numpy as np\n",
    "min_train_loss = np.inf "
   ]
  },
  {
   "cell_type": "code",
   "execution_count": 23,
   "id": "18e5f94f-5fd9-4ab0-883c-f0105f291acb",
   "metadata": {},
   "outputs": [],
   "source": [
    "# net.load_state_dict(torch.load(\"./model_weights/inception/inception_model_weights.pth\"))"
   ]
  },
  {
   "cell_type": "code",
   "execution_count": 24,
   "id": "17a75d1b-d02b-46a0-a5cd-ba0efdd553d6",
   "metadata": {},
   "outputs": [],
   "source": [
    "import time"
   ]
  },
  {
   "cell_type": "code",
   "execution_count": 25,
   "id": "86f24500-8fe1-45c1-b2b2-e60b6d43e76f",
   "metadata": {},
   "outputs": [],
   "source": [
    "def convert(seconds):\n",
    "    return time.strftime(\"%H:%M:%S\", time.gmtime(seconds))"
   ]
  },
  {
   "cell_type": "code",
   "execution_count": null,
   "id": "4fd63d47-0207-4fec-935c-a1e126f99cd8",
   "metadata": {},
   "outputs": [
    {
     "name": "stderr",
     "output_type": "stream",
     "text": [
      "100%|██████████████████████████████████████████████████████████████████████████████████████████████████████████| 1920/1920 [05:36<00:00,  5.71it/s]\n"
     ]
    },
    {
     "name": "stdout",
     "output_type": "stream",
     "text": [
      "Epoch 1 \tTraining Loss: 0.1424194855913811 \t time: 00:05:36\n",
      "Train Accuracy : 10.46875\n",
      "Train Loss Decreased( 279.3235526215285 ---> 273.4454123354517 ) \t Saving The Model\n"
     ]
    },
    {
     "name": "stderr",
     "output_type": "stream",
     "text": [
      "100%|██████████████████████████████████████████████████████████████████████████████████████████████████████████| 1920/1920 [05:42<00:00,  5.61it/s]\n"
     ]
    },
    {
     "name": "stdout",
     "output_type": "stream",
     "text": [
      "Epoch 2 \tTraining Loss: 0.13934775361534169 \t time: 00:05:42\n",
      "Train Accuracy : 11.71875\n",
      "Train Loss Decreased( 273.4454123354517 ---> 267.54768694145605 ) \t Saving The Model\n"
     ]
    },
    {
     "name": "stderr",
     "output_type": "stream",
     "text": [
      "100%|██████████████████████████████████████████████████████████████████████████████████████████████████████████| 1920/1920 [05:44<00:00,  5.57it/s]\n"
     ]
    },
    {
     "name": "stdout",
     "output_type": "stream",
     "text": [
      "Epoch 3 \tTraining Loss: 0.13785818008351877 \t time: 00:05:44\n",
      "Train Accuracy : 12.65625\n",
      "Train Loss Decreased( 267.54768694145605 ---> 264.68770576035604 ) \t Saving The Model\n"
     ]
    },
    {
     "name": "stderr",
     "output_type": "stream",
     "text": [
      "  5%|█████▌                                                                                                      | 98/1920 [00:16<05:13,  5.81it/s]"
     ]
    }
   ],
   "source": [
    "total_time = time.time()\n",
    "for e in range(epochs):\n",
    "    start_time=time.time()\n",
    "    train_loss = 0.0\n",
    "    right_train = 0\n",
    "    total_train = 0\n",
    "    for data, labels in tqdm(Train_Data_Loader):\n",
    "        # Transfer Data to GPU if available\n",
    "        if torch.cuda.is_available():\n",
    "            data, labels = data.cuda(), labels.cuda()\n",
    "         \n",
    "        # Clear the gradients\n",
    "        optimizer.zero_grad()\n",
    "        net.train()\n",
    "        # Forward Pass\n",
    "        target = net(data)\n",
    "        # Apply sigmoid activation\n",
    "        sigmoid_output = torch.sigmoid(target)\n",
    "        # Convert sigmoid output to binary values\n",
    "        output = (sigmoid_output > 0.5).float()\n",
    "        # Find the Loss\n",
    "        loss = criterion(sigmoid_output,labels)\n",
    "        # Calculate gradients\n",
    "        loss.backward()\n",
    "        # Update Weights\n",
    "        optimizer.step()\n",
    "        # Calculate Loss\n",
    "        train_loss += loss.item()\n",
    "        ftloss = train_loss / len(Train_Data_Loader)\n",
    "        # Calculate accuracy\n",
    "        correct_predictions = 1.0 if (output == labels).int().sum()==29 else 0.0\n",
    "        right_train+=correct_predictions\n",
    "        total_train+=len(labels)\n",
    "    ftacc = float(right_train*100/total_train)\n",
    "    acc_train_list.append(ftacc)\n",
    "    loss_train_list.append(ftloss)\n",
    "    print('Epoch',e+1, '\\tTraining Loss:',ftloss,\"\\t time:\",convert(time.time()-start_time))\n",
    "    print(\"Train Accuracy :\",ftacc)\n",
    "    if min_train_loss > train_loss:\n",
    "        print(\"Train Loss Decreased(\",min_train_loss,\"--->\",train_loss,\") \\t Saving The Model\")\n",
    "        min_train_loss = train_loss\n",
    "        # Saving State Dict\n",
    "        torch.save(net.state_dict(), 'E:/Saumya/model_weights/inception/inception_model_weights.pth')\n",
    "        torch.save(net,\"E:/Saumya/model_weights/inception/inception_model.pt\")\n",
    "print(\"total time : \",convert(time.time()-total_time))"
   ]
  },
  {
   "cell_type": "code",
   "execution_count": 27,
   "id": "ffc4475b-7da7-46e5-9bd3-f726c3abda82",
   "metadata": {},
   "outputs": [],
   "source": [
    "import os\n",
    "os.environ['CUDA_LAUNCH_BLOCKING'] = \"1\" "
   ]
  },
  {
   "cell_type": "code",
   "execution_count": 59,
   "id": "b1d8b006-008c-406b-9446-79cf6e059b1e",
   "metadata": {},
   "outputs": [
    {
     "data": {
      "text/plain": [
       "tensor([[0.1748, 0.3183, 0.0304, 0.3935, 0.1436, 0.0390, 0.0165, 0.0252, 0.0019,\n",
       "         0.0333, 0.0042, 0.0295, 0.0160, 0.0087, 0.0025, 0.0082, 0.1089, 0.0387,\n",
       "         0.0011, 0.0070, 0.0027, 0.0052, 0.0349, 0.0251, 0.0050, 0.0112, 0.0012,\n",
       "         0.0033, 0.0092]], device='cuda:0', grad_fn=<SigmoidBackward0>)"
      ]
     },
     "execution_count": 59,
     "metadata": {},
     "output_type": "execute_result"
    }
   ],
   "source": [
    "sigmoid_output"
   ]
  },
  {
   "cell_type": "code",
   "execution_count": 62,
   "id": "5d270e46-2544-463b-bcd0-b0af3c9c6d6e",
   "metadata": {},
   "outputs": [
    {
     "data": {
      "text/plain": [
       "tensor([[0., 0., 0., 1., 0., 1., 0., 0., 0., 0., 0., 0., 0., 0., 0., 0., 0., 0.,\n",
       "         0., 0., 0., 0., 0., 0., 0., 0., 0., 0., 0.]], device='cuda:0')"
      ]
     },
     "execution_count": 62,
     "metadata": {},
     "output_type": "execute_result"
    }
   ],
   "source": [
    "labels"
   ]
  },
  {
   "cell_type": "code",
   "execution_count": 66,
   "id": "e04f36fa-e73f-42d3-8c2b-99faa741557f",
   "metadata": {},
   "outputs": [
    {
     "data": {
      "text/plain": [
       "tensor([[-0.9141, -0.6421, -0.9980, -0.4075, -0.9453, -0.9967, -0.9994, -0.9987,\n",
       "         -1.0000, -0.9976, -1.0000, -0.9982, -0.9995, -0.9998, -1.0000, -0.9999,\n",
       "         -0.9706, -0.9968, -1.0000, -0.9999, -1.0000, -0.9999, -0.9974, -0.9987,\n",
       "         -1.0000, -0.9997, -1.0000, -1.0000, -0.9998]], device='cuda:0',\n",
       "       grad_fn=<TanhBackward0>)"
      ]
     },
     "execution_count": 66,
     "metadata": {},
     "output_type": "execute_result"
    }
   ],
   "source": [
    "torch.tanh(target)"
   ]
  },
  {
   "cell_type": "code",
   "execution_count": 61,
   "id": "718ecc08-2002-42f6-82bb-f15e7bd77151",
   "metadata": {},
   "outputs": [
    {
     "data": {
      "text/plain": [
       "tensor(0.1844, device='cuda:0', grad_fn=<BinaryCrossEntropyBackward0>)"
      ]
     },
     "execution_count": 61,
     "metadata": {},
     "output_type": "execute_result"
    }
   ],
   "source": [
    "criterion(sigmoid_output,labels)"
   ]
  },
  {
   "cell_type": "code",
   "execution_count": 42,
   "id": "e8d47d70-7898-43dc-9d04-d5cd548305a4",
   "metadata": {},
   "outputs": [
    {
     "data": {
      "text/plain": [
       "0"
      ]
     },
     "execution_count": 42,
     "metadata": {},
     "output_type": "execute_result"
    }
   ],
   "source": [
    "1 if (output == labels).int().sum()==29 else 0"
   ]
  },
  {
   "cell_type": "code",
   "execution_count": null,
   "id": "67f359a0-5d24-41bc-98af-116889f6a088",
   "metadata": {},
   "outputs": [],
   "source": [
    "# torch.save(net.state_dict(), '/home/user/research/inception/inception_model_100e_weights.pth')\n",
    "# torch.save(net,\"/home/user/research/inception/inception_model_100e.pt\")"
   ]
  },
  {
   "cell_type": "code",
   "execution_count": null,
   "id": "d4a5fef6-c134-4ae6-9eff-35c9e862c07b",
   "metadata": {},
   "outputs": [],
   "source": [
    "y_v = min(loss_train_list)\n",
    "x_v = loss_train_list.index(y_v)+1\n",
    "plt.plot(loss_train_list)\n",
    "plt.annotate(\"min train loss\",(x_v,y_v))\n",
    "plt.title('Train Loss during Model Training')\n",
    "plt.ylabel('loss')\n",
    "plt.xlabel('epoch')\n",
    "plt.legend(['train','minimum'], loc='upper left')\n",
    "plt.show()"
   ]
  }
 ],
 "metadata": {
  "kernelspec": {
   "display_name": "Python 3 (ipykernel)",
   "language": "python",
   "name": "python3"
  },
  "language_info": {
   "codemirror_mode": {
    "name": "ipython",
    "version": 3
   },
   "file_extension": ".py",
   "mimetype": "text/x-python",
   "name": "python",
   "nbconvert_exporter": "python",
   "pygments_lexer": "ipython3",
   "version": "3.11.9"
  }
 },
 "nbformat": 4,
 "nbformat_minor": 5
}
